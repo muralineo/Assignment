{
  "nbformat": 4,
  "nbformat_minor": 0,
  "metadata": {
    "kernelspec": {
      "display_name": "Python 3",
      "language": "python",
      "name": "python3"
    },
    "language_info": {
      "codemirror_mode": {
        "name": "ipython",
        "version": 3
      },
      "file_extension": ".py",
      "mimetype": "text/x-python",
      "name": "python",
      "nbconvert_exporter": "python",
      "pygments_lexer": "ipython3",
      "version": "3.7.4"
    },
    "colab": {
      "name": "Copy of Subjective Assignment - 6 - Numpy 2.ipynb",
      "provenance": []
    }
  },
  "cells": [
    {
      "cell_type": "markdown",
      "metadata": {
        "id": "Xc5qbYfPfuNT",
        "colab_type": "text"
      },
      "source": [
        "# Assignment"
      ]
    },
    {
      "cell_type": "markdown",
      "metadata": {
        "id": "y8ORzKt2fuNU",
        "colab_type": "text"
      },
      "source": [
        "Q1. Write the NumPy program to create an array of ones and an array\n",
        "of zeros?\n",
        "\n",
        "    Expected OutputCreate an array of zeros\n",
        "    Default type is float\n",
        "    [[ 0. 0.]]\n",
        "    Type changes to int\n",
        "    [[0 0]]\n",
        "    Create an array of ones\n",
        "    Default type is float\n",
        "    [[ 1. 1.]]\n",
        "    Type changes to int\n",
        "    [[1 1]]"
      ]
    },
    {
      "cell_type": "code",
      "metadata": {
        "id": "gWa1w9ZNfuNU",
        "colab_type": "code",
        "colab": {
          "base_uri": "https://localhost:8080/",
          "height": 151
        },
        "outputId": "d492941a-531e-49bc-f3be-b076a82f7eb3"
      },
      "source": [
        "import numpy as np\n",
        "\n",
        "print('Create an array of zeros')\n",
        "print(np.zeros((1, 2)))\n",
        "print('Type changes to int')\n",
        "print(np.zeros((1, 2), dtype=int))\n",
        "print('Create an array of ones')\n",
        "print(np.ones((1,2)))\n",
        "print('Type changes to int')\n",
        "print(np.ones((1,2), dtype=int))"
      ],
      "execution_count": 6,
      "outputs": [
        {
          "output_type": "stream",
          "text": [
            "Create an array of zeros\n",
            "[[0. 0.]]\n",
            "Type changes to int\n",
            "[[0 0]]\n",
            "Create an array of ones\n",
            "[[1. 1.]]\n",
            "Type changes to int\n",
            "[[1 1]]\n"
          ],
          "name": "stdout"
        }
      ]
    },
    {
      "cell_type": "code",
      "metadata": {
        "id": "dswZq1fsphHy",
        "colab_type": "code",
        "colab": {}
      },
      "source": [
        ""
      ],
      "execution_count": null,
      "outputs": []
    },
    {
      "cell_type": "markdown",
      "metadata": {
        "id": "-Pac02hvfuNY",
        "colab_type": "text"
      },
      "source": [
        "Q2. Write the NumPy program to change the dimension of an array?\n",
        "\n",
        "    Expected Output6 rows and 0 columns\n",
        "    (6,)\n",
        "    (3, 3) -> 3 rows and 3 columns\n",
        "    [[1 2 3]\n",
        "    [4 5 6]\n",
        "    [7 8 9]]\n",
        "    Change array shape to (3, 3) -> 3 rows and 3 columns\n",
        "    [[1 2 3]\n",
        "    [4 5 6]\n",
        "    [7 8 9]]"
      ]
    },
    {
      "cell_type": "code",
      "metadata": {
        "id": "8wdgmDy3fuNZ",
        "colab_type": "code",
        "colab": {
          "base_uri": "https://localhost:8080/",
          "height": 185
        },
        "outputId": "f80faf48-d2d5-458c-c6dd-d4e9a9f0cfb7"
      },
      "source": [
        "x = np.array([1, 2, 3, 4, 5, 6])\n",
        "print(\"6 rows and 0 columns\")\n",
        "print(x.shape)\n",
        "\n",
        "y = np.array([[1, 2, 3],[4, 5, 6],[7,8,9]])\n",
        "print(\"(3, 3) -> 3 rows and 3 columns \")\n",
        "print(y)\n",
        "\n",
        "x = np.array([1,2,3,4,5,6,7,8,9])\n",
        "print(\"Change array shape to (3, 3) -> 3 rows and 3 columns \")\n",
        "x.shape = (3, 3)\n",
        "print(x)"
      ],
      "execution_count": 7,
      "outputs": [
        {
          "output_type": "stream",
          "text": [
            "6 rows and 0 columns\n",
            "(6,)\n",
            "(3, 3) -> 3 rows and 3 columns \n",
            "[[1 2 3]\n",
            " [4 5 6]\n",
            " [7 8 9]]\n",
            "Change array shape to (3, 3) -> 3 rows and 3 columns \n",
            "[[1 2 3]\n",
            " [4 5 6]\n",
            " [7 8 9]]\n"
          ],
          "name": "stdout"
        }
      ]
    },
    {
      "cell_type": "code",
      "metadata": {
        "id": "Kmq99dEGrDur",
        "colab_type": "code",
        "colab": {}
      },
      "source": [
        ""
      ],
      "execution_count": null,
      "outputs": []
    },
    {
      "cell_type": "markdown",
      "metadata": {
        "id": "ZqGZ2YIRfuNb",
        "colab_type": "text"
      },
      "source": [
        "Q3. Write the NumPy program to create a new shape to an array\n",
        "without changing its data ?\n",
        "\n",
        "    Reshape 3x2-\n",
        "    [[1 2]\n",
        "    [3 4]\n",
        "    [5 6]]\n",
        "    Reshape 2x3-\n",
        "    [[1 2 3]\n",
        "    [4 5 6]]"
      ]
    },
    {
      "cell_type": "code",
      "metadata": {
        "id": "9R20b2RHfuNb",
        "colab_type": "code",
        "colab": {
          "base_uri": "https://localhost:8080/",
          "height": 134
        },
        "outputId": "d16568ff-ca6b-4ff4-dc12-5a92588f3db5"
      },
      "source": [
        "x = np.array([1, 2, 3, 4, 5, 6])\n",
        "y = np.reshape(x,(3,2))\n",
        "print(\"Reshape 3x2:\")\n",
        "print(y)\n",
        "z = np.reshape(x,(2,3))\n",
        "print(\"Reshape 2x3:\")\n",
        "print(z)"
      ],
      "execution_count": 8,
      "outputs": [
        {
          "output_type": "stream",
          "text": [
            "Reshape 3x2:\n",
            "[[1 2]\n",
            " [3 4]\n",
            " [5 6]]\n",
            "Reshape 2x3:\n",
            "[[1 2 3]\n",
            " [4 5 6]]\n"
          ],
          "name": "stdout"
        }
      ]
    },
    {
      "cell_type": "code",
      "metadata": {
        "id": "GPT168RUrWtF",
        "colab_type": "code",
        "colab": {}
      },
      "source": [
        ""
      ],
      "execution_count": null,
      "outputs": []
    },
    {
      "cell_type": "markdown",
      "metadata": {
        "id": "Twbfn_ZYfuNd",
        "colab_type": "text"
      },
      "source": [
        "Q4. Write the NumPy program to create a new array of 3*5, filled with\n",
        "2?\n",
        "\n",
        "    Expected Output-\n",
        "    [[2 2 2 2 2]\n",
        "    [2 2 2 2 2]\n",
        "    [2 2 2 2 2]]\n",
        "    [[2 2 2 2 2]\n",
        "    [2 2 2 2 2]\n",
        "    [2 2 2 2 2]]"
      ]
    },
    {
      "cell_type": "code",
      "metadata": {
        "id": "ZB9jkAEafuNe",
        "colab_type": "code",
        "colab": {
          "base_uri": "https://localhost:8080/",
          "height": 67
        },
        "outputId": "07a66f5f-2e6d-400c-af25-34d8b8004936"
      },
      "source": [
        "import numpy as np\n",
        "\n",
        "x = np.full((3,5), 2)\n",
        "x"
      ],
      "execution_count": 10,
      "outputs": [
        {
          "output_type": "execute_result",
          "data": {
            "text/plain": [
              "array([[2, 2, 2, 2, 2],\n",
              "       [2, 2, 2, 2, 2],\n",
              "       [2, 2, 2, 2, 2]])"
            ]
          },
          "metadata": {
            "tags": []
          },
          "execution_count": 10
        }
      ]
    },
    {
      "cell_type": "markdown",
      "metadata": {
        "id": "Y8HH-ReUfuNg",
        "colab_type": "text"
      },
      "source": [
        "Q5. Write the NumPy program to create a 3-D array with ones on a\n",
        "diagonal and zeros elsewhere?\n",
        "\n",
        "    Expected Output-\n",
        "    [[ 1. 0. 0.]\n",
        "    [ 0. 1. 0.]\n",
        "    [ 0. 0. 1.]]"
      ]
    },
    {
      "cell_type": "code",
      "metadata": {
        "id": "gRbJoUZ5fuNh",
        "colab_type": "code",
        "colab": {
          "base_uri": "https://localhost:8080/",
          "height": 67
        },
        "outputId": "65e13777-0c60-49b1-d4b0-f164b472ea4e"
      },
      "source": [
        "x = np.eye(3)\n",
        "x"
      ],
      "execution_count": 11,
      "outputs": [
        {
          "output_type": "execute_result",
          "data": {
            "text/plain": [
              "array([[1., 0., 0.],\n",
              "       [0., 1., 0.],\n",
              "       [0., 0., 1.]])"
            ]
          },
          "metadata": {
            "tags": []
          },
          "execution_count": 11
        }
      ]
    },
    {
      "cell_type": "code",
      "metadata": {
        "id": "nbw1WeICsRRo",
        "colab_type": "code",
        "colab": {}
      },
      "source": [
        ""
      ],
      "execution_count": null,
      "outputs": []
    },
    {
      "cell_type": "markdown",
      "metadata": {
        "id": "gVPB8r7vfuNk",
        "colab_type": "text"
      },
      "source": [
        "Q6. Write the NumPy program to split an array of 14 elements into the\n",
        "3 arrays and each of which has 2, 4, and 8 elements in original\n",
        "order?\n",
        "\n",
        "    Expected OutputOriginal array- [ 1 2 3 4 5 6 7 8 9 10 11 12 13 14]\n",
        "    After splitting-\n",
        "    [array([1, 2]), array([3, 4, 5, 6]), array([ 7, 8, 9, 10, 11, 12, 13, 14])]"
      ]
    },
    {
      "cell_type": "code",
      "metadata": {
        "id": "431Y7DuufuNk",
        "colab_type": "code",
        "colab": {
          "base_uri": "https://localhost:8080/",
          "height": 67
        },
        "outputId": "74e6bec1-3bd6-436e-f3ee-bc861597cfa7"
      },
      "source": [
        "x = np.arange(1, 15)\n",
        "print(\"Original array:\",x)\n",
        "print(\"After splitting:\")\n",
        "print(np.split(x, [2, 6]))"
      ],
      "execution_count": 12,
      "outputs": [
        {
          "output_type": "stream",
          "text": [
            "Original array: [ 1  2  3  4  5  6  7  8  9 10 11 12 13 14]\n",
            "After splitting:\n",
            "[array([1, 2]), array([3, 4, 5, 6]), array([ 7,  8,  9, 10, 11, 12, 13, 14])]\n"
          ],
          "name": "stdout"
        }
      ]
    },
    {
      "cell_type": "code",
      "metadata": {
        "id": "5luwJaGWsnDs",
        "colab_type": "code",
        "colab": {}
      },
      "source": [
        ""
      ],
      "execution_count": null,
      "outputs": []
    },
    {
      "cell_type": "markdown",
      "metadata": {
        "id": "cgk44HHQfuNm",
        "colab_type": "text"
      },
      "source": [
        "Q7. Write the NumPy program to split of an array of shape 4x4 it into\n",
        "two arrays along the second axis ?\n",
        "\n",
        "    Sample array -\n",
        "    [[ 0 1 2 3]\n",
        "    [ 4 5 6 7]\n",
        "    [ 8 9 10 11]\n",
        "    [12 13 14 15]]\n",
        "    Expected Output-\n",
        "    [array([[ 0, 1],\n",
        "    [ 4, 5],\n",
        "    [ 8, 9],\n",
        "    [12, 13]]), array([[ 2, 3],\n",
        "    [ 6, 7],\n",
        "    [10, 11],\n",
        "    [14, 15]]), array([], shape=(4, 0), dtype=int64)]"
      ]
    },
    {
      "cell_type": "code",
      "metadata": {
        "id": "zDn9PmvNfuNn",
        "colab_type": "code",
        "colab": {
          "base_uri": "https://localhost:8080/",
          "height": 218
        },
        "outputId": "06c59a47-de9e-45cd-9245-4c8518c2723d"
      },
      "source": [
        "x = np.arange(16).reshape((4, 4))\n",
        "print(\"Original array:\",x)\n",
        "print(\"After splitting horizontally:\")\n",
        "print(np.hsplit(x, [2, 6]))"
      ],
      "execution_count": 13,
      "outputs": [
        {
          "output_type": "stream",
          "text": [
            "Original array: [[ 0  1  2  3]\n",
            " [ 4  5  6  7]\n",
            " [ 8  9 10 11]\n",
            " [12 13 14 15]]\n",
            "After splitting horizontally:\n",
            "[array([[ 0,  1],\n",
            "       [ 4,  5],\n",
            "       [ 8,  9],\n",
            "       [12, 13]]), array([[ 2,  3],\n",
            "       [ 6,  7],\n",
            "       [10, 11],\n",
            "       [14, 15]]), array([], shape=(4, 0), dtype=int64)]\n"
          ],
          "name": "stdout"
        }
      ]
    },
    {
      "cell_type": "code",
      "metadata": {
        "id": "dDmwNPN-s1lX",
        "colab_type": "code",
        "colab": {}
      },
      "source": [
        ""
      ],
      "execution_count": null,
      "outputs": []
    },
    {
      "cell_type": "markdown",
      "metadata": {
        "id": "BuZfACsXfuNp",
        "colab_type": "text"
      },
      "source": [
        "Q8. Write the NumPy program to create a 5x5 matrix with row values\n",
        "ranging from 0 to 4?\n",
        "\n",
        "    Original array-\n",
        "    [[ 0. 0. 0. 0. 0.]\n",
        "    [ 0. 0. 0. 0. 0.]\n",
        "    [ 0. 0. 0. 0. 0.]\n",
        "    [ 0. 0. 0. 0. 0.]\n",
        "    [ 0. 0. 0. 0. 0.]]\n",
        "    Row values ranging from 0 to 4.\n",
        "    [[ 0. 1. 2. 3. 4.]\n",
        "    [ 0. 1. 2. 3. 4.]\n",
        "    [ 0. 1. 2. 3. 4.]\n",
        "    [ 0. 1. 2. 3. 4.]\n",
        "    [ 0. 1. 2. 3. 4.]]"
      ]
    },
    {
      "cell_type": "code",
      "metadata": {
        "id": "o9onb873fuNp",
        "colab_type": "code",
        "colab": {
          "base_uri": "https://localhost:8080/",
          "height": 218
        },
        "outputId": "3c8852ba-7f09-436a-8361-565282a67ecb"
      },
      "source": [
        "x = np.zeros((5,5))\n",
        "print(\"Original array:\")\n",
        "print(x)\n",
        "print(\"Row values ranging from 0 to 4.\")\n",
        "x += np.arange(5)\n",
        "print(x)"
      ],
      "execution_count": 14,
      "outputs": [
        {
          "output_type": "stream",
          "text": [
            "Original array:\n",
            "[[0. 0. 0. 0. 0.]\n",
            " [0. 0. 0. 0. 0.]\n",
            " [0. 0. 0. 0. 0.]\n",
            " [0. 0. 0. 0. 0.]\n",
            " [0. 0. 0. 0. 0.]]\n",
            "Row values ranging from 0 to 4.\n",
            "[[0. 1. 2. 3. 4.]\n",
            " [0. 1. 2. 3. 4.]\n",
            " [0. 1. 2. 3. 4.]\n",
            " [0. 1. 2. 3. 4.]\n",
            " [0. 1. 2. 3. 4.]]\n"
          ],
          "name": "stdout"
        }
      ]
    },
    {
      "cell_type": "code",
      "metadata": {
        "id": "GGMYCzFKtC35",
        "colab_type": "code",
        "colab": {}
      },
      "source": [
        ""
      ],
      "execution_count": null,
      "outputs": []
    },
    {
      "cell_type": "markdown",
      "metadata": {
        "id": "JJEiZn9JfuNr",
        "colab_type": "text"
      },
      "source": [
        "Q9. Write the NumPy program to create an array of zeros and three\n",
        "column types (integer, float, character)?\n",
        "\n",
        "    Expected Output-\n",
        "    [(1, 2., b'Albert Einstein') (2, 2., b'Edmond Halley')\n",
        "    (3, 3., b'Gertrude B. Elion')]"
      ]
    },
    {
      "cell_type": "code",
      "metadata": {
        "id": "-rDvn0--fuNr",
        "colab_type": "code",
        "colab": {
          "base_uri": "https://localhost:8080/",
          "height": 50
        },
        "outputId": "5c609325-37e3-430c-8cac-a72ad554c4db"
      },
      "source": [
        "x = np.zeros((3,), dtype=('i4,f4,a40'))\n",
        "new_data = [(1, 2., \"Albert Einstein\"), (2, 2., \"Edmond Halley\"), (3, 3., \"Gertrude B. Elion\")]\n",
        "x[:] = new_data\n",
        "print(x)"
      ],
      "execution_count": 15,
      "outputs": [
        {
          "output_type": "stream",
          "text": [
            "[(1, 2., b'Albert Einstein') (2, 2., b'Edmond Halley')\n",
            " (3, 3., b'Gertrude B. Elion')]\n"
          ],
          "name": "stdout"
        }
      ]
    },
    {
      "cell_type": "code",
      "metadata": {
        "id": "M1jsPBDdtW_u",
        "colab_type": "code",
        "colab": {}
      },
      "source": [
        ""
      ],
      "execution_count": null,
      "outputs": []
    },
    {
      "cell_type": "markdown",
      "metadata": {
        "id": "kNZsCs3EfuNt",
        "colab_type": "text"
      },
      "source": [
        "Q10. Write the NumPy program to remove the negative values in the\n",
        "numpy array with 0?\n",
        "\n",
        "    Expected OutputOriginal array:\n",
        "    [-1 -4 0 2 3 4 5 -6]\n",
        "    Replace the negative values of the said array with 0-\n",
        "    [0 0 0 2 3 4 5 0]"
      ]
    },
    {
      "cell_type": "code",
      "metadata": {
        "id": "epv2Q6hPfuNu",
        "colab_type": "code",
        "colab": {
          "base_uri": "https://localhost:8080/",
          "height": 84
        },
        "outputId": "8e92e0e7-fcfa-498a-f54c-f076b0f7b276"
      },
      "source": [
        "x = np.array([-1, -4, 0, 2, 3, 4, 5, -6])\n",
        "print(\"Original array:\")\n",
        "print(x)\n",
        "print(\"Replace the negative values of the said array with 0:\")\n",
        "x[x < 0] = 0\n",
        "print(x)"
      ],
      "execution_count": 16,
      "outputs": [
        {
          "output_type": "stream",
          "text": [
            "Original array:\n",
            "[-1 -4  0  2  3  4  5 -6]\n",
            "Replace the negative values of the said array with 0:\n",
            "[0 0 0 2 3 4 5 0]\n"
          ],
          "name": "stdout"
        }
      ]
    },
    {
      "cell_type": "code",
      "metadata": {
        "id": "0looEWUbtgQq",
        "colab_type": "code",
        "colab": {}
      },
      "source": [
        ""
      ],
      "execution_count": null,
      "outputs": []
    },
    {
      "cell_type": "markdown",
      "metadata": {
        "id": "RGh6p5z2fuNy",
        "colab_type": "text"
      },
      "source": [
        "Q11. Write the NumPy program to compute the histogram of a set of\n",
        "data?"
      ]
    },
    {
      "cell_type": "code",
      "metadata": {
        "id": "mDJzWSWFfuNz",
        "colab_type": "code",
        "colab": {
          "base_uri": "https://localhost:8080/",
          "height": 265
        },
        "outputId": "12a3d9de-0943-4bc3-ff8d-274327086fe2"
      },
      "source": [
        "import numpy as np    \n",
        "import matplotlib.pyplot as plt\n",
        "plt.hist([1, 2, 1, 5, 8, 5, 8, 8, 8], bins=[0, 1, 2, 3, 5, 6, 7, 8])\n",
        "plt.show()"
      ],
      "execution_count": 19,
      "outputs": [
        {
          "output_type": "display_data",
          "data": {
            "image/png": "[encoded data removed]",
            "text/plain": [
              "<Figure size 432x288 with 1 Axes>"
            ]
          },
          "metadata": {
            "tags": [],
            "needs_background": "light"
          }
        }
      ]
    },
    {
      "cell_type": "code",
      "metadata": {
        "id": "fwDafxUPtrcO",
        "colab_type": "code",
        "colab": {}
      },
      "source": [
        ""
      ],
      "execution_count": null,
      "outputs": []
    },
    {
      "cell_type": "markdown",
      "metadata": {
        "id": "iqs3eGdofuN1",
        "colab_type": "text"
      },
      "source": [
        "Q12. Write the NumPy program to compute the line graph of a set of\n",
        "data?"
      ]
    },
    {
      "cell_type": "code",
      "metadata": {
        "id": "ttlSCaIEfuN1",
        "colab_type": "code",
        "colab": {
          "base_uri": "https://localhost:8080/",
          "height": 265
        },
        "outputId": "977e6b59-3a7e-449e-aa5f-492df1958696"
      },
      "source": [
        "import matplotlib.pyplot as plt\n",
        "arr = np.random.randint(1, 100, 5)\n",
        "y, x = np.histogram(arr, bins=np.arange(101))\n",
        "fig, ax = plt.subplots()\n",
        "ax.plot(x[:-1], y)\n",
        "fig.show()"
      ],
      "execution_count": 20,
      "outputs": [
        {
          "output_type": "display_data",
          "data": {
            "image/png": "[encoded data removed]",
            "text/plain": [
              "<Figure size 432x288 with 1 Axes>"
            ]
          },
          "metadata": {
            "tags": [],
            "needs_background": "light"
          }
        }
      ]
    },
    {
      "cell_type": "code",
      "metadata": {
        "id": "2iVVzAb6uQPC",
        "colab_type": "code",
        "colab": {}
      },
      "source": [
        ""
      ],
      "execution_count": null,
      "outputs": []
    },
    {
      "cell_type": "markdown",
      "metadata": {
        "id": "aSveSVwnfuN3",
        "colab_type": "text"
      },
      "source": [
        "Q13. Write the NumPy program to extracts all the elements from second\n",
        "row from given (4x4) array?\n",
        "    \n",
        "    Sample OutputOriginal array-\n",
        "    [[ 0 1 2 3]\n",
        "    [ 4 5 6 7]\n",
        "    [ 8 9 10 11]\n",
        "    [12 13 14 15]]\n",
        "    Extracted data- Second row\n",
        "    [4 5 6 7]"
      ]
    },
    {
      "cell_type": "code",
      "metadata": {
        "id": "6VAs5BICfuN3",
        "colab_type": "code",
        "colab": {
          "base_uri": "https://localhost:8080/",
          "height": 151
        },
        "outputId": "fdb7c00c-b675-472a-d355-e4345856cfdc"
      },
      "source": [
        "arr = np.arange(0,16).reshape((4, 4))\n",
        "print(\"Original array-\")\n",
        "print(arr)\n",
        "print(\"\\nExtracted data- Second row\")\n",
        "print(arr[1,:])"
      ],
      "execution_count": 21,
      "outputs": [
        {
          "output_type": "stream",
          "text": [
            "Original array-\n",
            "[[ 0  1  2  3]\n",
            " [ 4  5  6  7]\n",
            " [ 8  9 10 11]\n",
            " [12 13 14 15]]\n",
            "\n",
            "Extracted data- Second row\n",
            "[4 5 6 7]\n"
          ],
          "name": "stdout"
        }
      ]
    },
    {
      "cell_type": "code",
      "metadata": {
        "id": "J1rgkfU3uhK9",
        "colab_type": "code",
        "colab": {}
      },
      "source": [
        ""
      ],
      "execution_count": null,
      "outputs": []
    },
    {
      "cell_type": "markdown",
      "metadata": {
        "id": "OzqK3wqofuN6",
        "colab_type": "text"
      },
      "source": [
        "Q14. Write the NumPy program to extract first element of the second\n",
        "row and fourth element of fourth row from a given (4x4) array?\n",
        "\n",
        "    Sample OutputOriginal array-\n",
        "    [[ 0 1 2 3]\n",
        "    [ 4 5 6 7]\n",
        "    [ 8 9 10 11]\n",
        "    [12 13 14 15]]\n",
        "    Extracted data- First element of the second row and fourth element of fourth row\n",
        "    [ 4 15]\n"
      ]
    },
    {
      "cell_type": "code",
      "metadata": {
        "id": "SL4PZz-tuzL9",
        "colab_type": "code",
        "colab": {
          "base_uri": "https://localhost:8080/",
          "height": 151
        },
        "outputId": "121e0d68-2b5d-4e0a-ae16-37be1b350508"
      },
      "source": [
        "arr = np.arange(0,16).reshape((4, 4))\n",
        "print(\"Original array:\")\n",
        "print(arr)\n",
        "print(\"\\nExtracted data: First element of the second row and fourth element of fourth row  \")\n",
        "print(arr[[1,3], [0,3]])"
      ],
      "execution_count": 22,
      "outputs": [
        {
          "output_type": "stream",
          "text": [
            "Original array:\n",
            "[[ 0  1  2  3]\n",
            " [ 4  5  6  7]\n",
            " [ 8  9 10 11]\n",
            " [12 13 14 15]]\n",
            "\n",
            "Extracted data: First element of the second row and fourth element of fourth row  \n",
            "[ 4 15]\n"
          ],
          "name": "stdout"
        }
      ]
    },
    {
      "cell_type": "code",
      "metadata": {
        "id": "ii8-_zTyfuN6",
        "colab_type": "code",
        "colab": {}
      },
      "source": [
        ""
      ],
      "execution_count": null,
      "outputs": []
    },
    {
      "cell_type": "markdown",
      "metadata": {
        "id": "stAunZeGfuN8",
        "colab_type": "text"
      },
      "source": [
        "Q15. Write the NumPy program to add two arrays A and B of sizes (3,3)\n",
        "and (,3)?\n",
        "\n",
        "    Sample OutputOriginal arrayArray-1\n",
        "    [[1 1 1]\n",
        "    [1 1 1]\n",
        "    [1 1 1]]\n",
        "    Array-2\n",
        "    [0 1 2]\n",
        "    A + B:\n",
        "    [[1 2 3]\n",
        "    [1 2 3]\n",
        "    [1 2 3]]"
      ]
    },
    {
      "cell_type": "code",
      "metadata": {
        "id": "oTeMhLlyvKN4",
        "colab_type": "code",
        "colab": {
          "base_uri": "https://localhost:8080/",
          "height": 202
        },
        "outputId": "2fb7caa5-78b5-48ac-ac03-491db99b0ee9"
      },
      "source": [
        "A = np.ones((3,3))\n",
        "B = np.arange(3)\n",
        "print(\"Original array:\")\n",
        "print(\"Array-1\")\n",
        "print(A)\n",
        "print(\"Array-2\")\n",
        "print(B)\n",
        "print(\"A + B:\")\n",
        "new_array = A + B\n",
        "print(new_array)"
      ],
      "execution_count": 23,
      "outputs": [
        {
          "output_type": "stream",
          "text": [
            "Original array:\n",
            "Array-1\n",
            "[[1. 1. 1.]\n",
            " [1. 1. 1.]\n",
            " [1. 1. 1.]]\n",
            "Array-2\n",
            "[0 1 2]\n",
            "A + B:\n",
            "[[1. 2. 3.]\n",
            " [1. 2. 3.]\n",
            " [1. 2. 3.]]\n"
          ],
          "name": "stdout"
        }
      ]
    },
    {
      "cell_type": "code",
      "metadata": {
        "id": "924_5t6jfuN8",
        "colab_type": "code",
        "colab": {}
      },
      "source": [
        ""
      ],
      "execution_count": null,
      "outputs": []
    },
    {
      "cell_type": "markdown",
      "metadata": {
        "id": "vNbIcMvCfuN-",
        "colab_type": "text"
      },
      "source": [
        "Q16. Write the NumPy program to copy data from a given array to\n",
        "another array?\n",
        "\n",
        "    Sample OutputOriginal array-\n",
        "    [24 27 30 29 18 14]\n",
        "    Copy of the said array-\n",
        "    [24 27 30 29 18 14]"
      ]
    },
    {
      "cell_type": "code",
      "metadata": {
        "id": "YmPjU-rkfuN_",
        "colab_type": "code",
        "colab": {
          "base_uri": "https://localhost:8080/",
          "height": 101
        },
        "outputId": "1de96235-160c-4348-fc9b-b471cbcc6670"
      },
      "source": [
        "x = np.array([24, 27, 30, 29, 18, 14])\n",
        "print(\"Original array:\")\n",
        "print(x)\n",
        "y = np.empty_like (x)\n",
        "y[:] = x\n",
        "print(\"\\nCopy of the said array:\")\n",
        "print(y)"
      ],
      "execution_count": 24,
      "outputs": [
        {
          "output_type": "stream",
          "text": [
            "Original array:\n",
            "[24 27 30 29 18 14]\n",
            "\n",
            "Copy of the said array:\n",
            "[24 27 30 29 18 14]\n"
          ],
          "name": "stdout"
        }
      ]
    },
    {
      "cell_type": "code",
      "metadata": {
        "id": "MZw95NAKvZr8",
        "colab_type": "code",
        "colab": {}
      },
      "source": [
        ""
      ],
      "execution_count": null,
      "outputs": []
    },
    {
      "cell_type": "markdown",
      "metadata": {
        "id": "d_KXsHzSfuOB",
        "colab_type": "text"
      },
      "source": [
        "Q17. Write the NumPy program to calculate the sum of all columns of\n",
        "the 2D numpy array?\n",
        "    \n",
        "    Sample OutputOriginal array-\n",
        "    [[ 0 1 2 3 4 5 6 7 8]\n",
        "    [ 9 10 11 12 13 14 15 16 17]\n",
        "    [18 19 20 21 22 23 24 25 26]\n",
        "    [27 28 29 30 31 32 33 34 35]]\n",
        "    Sum of all columns-\n",
        "    [54 58 62 66 70 74 78 82 86]"
      ]
    },
    {
      "cell_type": "code",
      "metadata": {
        "id": "O4-m0okhfuOB",
        "colab_type": "code",
        "colab": {}
      },
      "source": [
        ""
      ],
      "execution_count": null,
      "outputs": []
    },
    {
      "cell_type": "markdown",
      "metadata": {
        "id": "9iv2kwdyfuOD",
        "colab_type": "text"
      },
      "source": [
        "Q18. Write the NumPy program to calculate averages without NaNs\n",
        "along the given array?\n",
        "    \n",
        "    Sample OutputOriginal array-\n",
        "    [[10. 20. 30.]\n",
        "    [40. 50. nan]\n",
        "    [nan 6. nan]\n",
        "    [nan nan nan]]\n",
        "    Averages without NaNs along the said array-\n",
        "    [20. 45. 6. nan]"
      ]
    },
    {
      "cell_type": "code",
      "metadata": {
        "id": "2xnDw5KLfuOD",
        "colab_type": "code",
        "colab": {
          "base_uri": "https://localhost:8080/",
          "height": 134
        },
        "outputId": "271146b5-9ec9-493b-9ae7-67accc34be99"
      },
      "source": [
        "import numpy as np\n",
        "arr1 = np.array([[10, 20 ,30], [40, 50, np.nan], [np.nan, 6, np.nan], [np.nan, np.nan, np.nan]])\n",
        "print(\"Original array:\")\n",
        "print(arr1)\n",
        "temp = np.ma.masked_array(arr1,np.isnan(arr1))\n",
        "result = np.mean(temp, axis=1)\n",
        "print(\"Averages without NaNs along the said array:\")\n",
        "print(result.filled(np.nan))"
      ],
      "execution_count": 26,
      "outputs": [
        {
          "output_type": "stream",
          "text": [
            "Original array:\n",
            "[[10. 20. 30.]\n",
            " [40. 50. nan]\n",
            " [nan  6. nan]\n",
            " [nan nan nan]]\n",
            "Averages without NaNs along the said array:\n",
            "[20. 45.  6. nan]\n"
          ],
          "name": "stdout"
        }
      ]
    },
    {
      "cell_type": "code",
      "metadata": {
        "id": "6t8CC5RmvlPc",
        "colab_type": "code",
        "colab": {}
      },
      "source": [
        ""
      ],
      "execution_count": null,
      "outputs": []
    },
    {
      "cell_type": "markdown",
      "metadata": {
        "id": "5B3TmSDHfuOF",
        "colab_type": "text"
      },
      "source": [
        "## Great Job!"
      ]
    }
  ]
}