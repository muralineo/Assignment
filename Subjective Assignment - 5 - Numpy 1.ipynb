{
  "nbformat": 4,
  "nbformat_minor": 0,
  "metadata": {
    "kernelspec": {
      "display_name": "Python 3",
      "language": "python",
      "name": "python3"
    },
    "language_info": {
      "codemirror_mode": {
        "name": "ipython",
        "version": 3
      },
      "file_extension": ".py",
      "mimetype": "text/x-python",
      "name": "python",
      "nbconvert_exporter": "python",
      "pygments_lexer": "ipython3",
      "version": "3.7.4"
    },
    "colab": {
      "name": "Subjective Assignment - 5 - Numpy 1.ipynb",
      "provenance": []
    }
  },
  "cells": [
    {
      "cell_type": "markdown",
      "metadata": {
        "id": "VDhnmSwJMUi0",
        "colab_type": "text"
      },
      "source": [
        "# Assignment"
      ]
    },
    {
      "cell_type": "markdown",
      "metadata": {
        "id": "qngOGzxPMUi1",
        "colab_type": "text"
      },
      "source": [
        "Q1. Write the NumPy program to create a 2d array with 6 on the border\n",
        "and 0 inside?\n",
        "\n",
        "    Expected OutputOriginal array-\n",
        "    [ [6 6 6 6 6]\n",
        "     [ 6 6 6 6 6]\n",
        "     [ 6 6 6 6 6 ]\n",
        "    [ 6 6 6 6 6 ]\n",
        "    [ 6 6 6 6 ] ].\n",
        "    6 on the border and 0 inside in the array-\n",
        "    [[ 6 6 6 6 6]\n",
        "    [ 6 0 0 0 6]\n",
        "    [ 6 0 0 0 6]\n",
        "    [ 6 0 0 0 6]\n",
        "    [ 6 6 6 6 6]]."
      ]
    },
    {
      "cell_type": "code",
      "metadata": {
        "id": "k6ouDKn1MUi2",
        "colab_type": "code",
        "colab": {}
      },
      "source": [
        "import numpy as np\n",
        "\n",
        "def zero_in(arr):\n",
        "    print('Input array:')    \n",
        "    print(arr)\n",
        "    arr[1:-1,1:-1] = 0\n",
        "    print('\\n')\n",
        "    print('Result')    \n",
        "    print(arr)"
      ],
      "execution_count": 64,
      "outputs": []
    },
    {
      "cell_type": "code",
      "metadata": {
        "id": "q28VzzrMMnGw",
        "colab_type": "code",
        "colab": {
          "base_uri": "https://localhost:8080/",
          "height": 252
        },
        "outputId": "2c6d656a-f4c9-4bd5-9161-e08e5551391a"
      },
      "source": [
        "zero_in(np.full((5, 5), 6))"
      ],
      "execution_count": 65,
      "outputs": [
        {
          "output_type": "stream",
          "text": [
            "Input array:\n",
            "[[6 6 6 6 6]\n",
            " [6 6 6 6 6]\n",
            " [6 6 6 6 6]\n",
            " [6 6 6 6 6]\n",
            " [6 6 6 6 6]]\n",
            "\n",
            "\n",
            "Result\n",
            "[[6 6 6 6 6]\n",
            " [6 0 0 0 6]\n",
            " [6 0 0 0 6]\n",
            " [6 0 0 0 6]\n",
            " [6 6 6 6 6]]\n"
          ],
          "name": "stdout"
        }
      ]
    },
    {
      "cell_type": "code",
      "metadata": {
        "id": "apfzOZHUMnBr",
        "colab_type": "code",
        "colab": {}
      },
      "source": [
        ""
      ],
      "execution_count": 65,
      "outputs": []
    },
    {
      "cell_type": "markdown",
      "metadata": {
        "id": "vlGNqze_MUi5",
        "colab_type": "text"
      },
      "source": [
        "Q2. Write the NumPy program to create a 8x8 matrix and fill it with the\n",
        "checkerboard pattern?\n",
        "    \n",
        "    Checkerboard pattern-\n",
        "    [[3 9 3 9 3 9 3 9]\n",
        "    [9 3 9 3 9 3 9 3]\n",
        "    [3 9 3 9 3 9 3 9]\n",
        "    [9 3 9 3 9 3 9 3]\n",
        "    [3 9 3 9 3 9 3 9]\n",
        "    [9 3 9 3 9 3 9 3]\n",
        "    [3 9 3 9 3 9 3 9]\n",
        "    [9 3 9 3 9 3 9 3]]."
      ]
    },
    {
      "cell_type": "code",
      "metadata": {
        "id": "_FjQu7I1MUi5",
        "colab_type": "code",
        "colab": {}
      },
      "source": [
        "import numpy as np\n",
        "def checkboard(arr):    \n",
        "    print(\"Checkerboard pattern:\")    \n",
        "    arr[1::2,::2] = 9\n",
        "    arr[::2,1::2] = 9\n",
        "    print(arr)"
      ],
      "execution_count": 66,
      "outputs": []
    },
    {
      "cell_type": "code",
      "metadata": {
        "id": "UB-OjU08M2Di",
        "colab_type": "code",
        "colab": {
          "base_uri": "https://localhost:8080/",
          "height": 168
        },
        "outputId": "dfeb0aac-9c9c-49c6-b733-a410eef350fd"
      },
      "source": [
        "checkboard(np.full((8,8), 3, dtype=int))"
      ],
      "execution_count": 67,
      "outputs": [
        {
          "output_type": "stream",
          "text": [
            "Checkerboard pattern:\n",
            "[[3 9 3 9 3 9 3 9]\n",
            " [9 3 9 3 9 3 9 3]\n",
            " [3 9 3 9 3 9 3 9]\n",
            " [9 3 9 3 9 3 9 3]\n",
            " [3 9 3 9 3 9 3 9]\n",
            " [9 3 9 3 9 3 9 3]\n",
            " [3 9 3 9 3 9 3 9]\n",
            " [9 3 9 3 9 3 9 3]]\n"
          ],
          "name": "stdout"
        }
      ]
    },
    {
      "cell_type": "code",
      "metadata": {
        "id": "qftxQUqmM0gU",
        "colab_type": "code",
        "colab": {}
      },
      "source": [
        ""
      ],
      "execution_count": 67,
      "outputs": []
    },
    {
      "cell_type": "markdown",
      "metadata": {
        "id": "NtKYez6ZMUi8",
        "colab_type": "text"
      },
      "source": [
        "Q3. Write the NumPy program to create an empty and a full array.\n",
        " \n",
        "     Expected Output-\n",
        "    [[4.45057637e-308 1.78021527e-306 8.45549797e-307 1.37962049e-306]\n",
        "    [1.11260619e-306 1.78010255e-306 9.79054228e-307 4.45057637e-308]\n",
        "    [8.45596650e-307 9.34602321e-307 4.94065646e-322 0.00000000e+000]]\n",
        "    [[6 6 6]\n",
        "    [6 6 6]\n",
        "    [6 6 6]]\n"
      ]
    },
    {
      "cell_type": "code",
      "metadata": {
        "id": "gK9C2SP7MUi8",
        "colab_type": "code",
        "colab": {
          "base_uri": "https://localhost:8080/",
          "height": 185
        },
        "outputId": "f51d9f42-1831-4c16-8568-00eb1c704402"
      },
      "source": [
        "import numpy as np\n",
        "\n",
        "# Creating Empty array\n",
        "empty = np.empty((3,4), dtype=float)\n",
        "print('Empty array:')\n",
        "print(empty)\n",
        "print('\\n')\n",
        "# Creating full array\n",
        "full = np.full((3,3), 6)\n",
        "print('Full array:')\n",
        "print(full)"
      ],
      "execution_count": 68,
      "outputs": [
        {
          "output_type": "stream",
          "text": [
            "Empty array:\n",
            "[[3.55010435e-316 0.00000000e+000 4.27366784e-321 2.46463699e-316]\n",
            " [6.91316113e-310 6.91316113e-310 6.91316113e-310 6.91316113e-310]\n",
            " [3.55010435e-316 9.88131292e-324 1.90979621e-313 0.00000000e+000]]\n",
            "\n",
            "\n",
            "Full array:\n",
            "[[6 6 6]\n",
            " [6 6 6]\n",
            " [6 6 6]]\n"
          ],
          "name": "stdout"
        }
      ]
    },
    {
      "cell_type": "code",
      "metadata": {
        "id": "CiBsWi4-M_YE",
        "colab_type": "code",
        "colab": {}
      },
      "source": [
        ""
      ],
      "execution_count": 68,
      "outputs": []
    },
    {
      "cell_type": "markdown",
      "metadata": {
        "id": "AVQ7wXWAMUi-",
        "colab_type": "text"
      },
      "source": [
        "Q4. Write the NumPy program to convert the values of Centigrade\n",
        "degrees into the Fahrenheit degrees and the centigrade values are\n",
        "stored in the NumPy array.\n",
        "    \n",
        "    Sample Array -[0, 12, 45.21 ,34, 99.91]\n",
        "    Expected OutputValues in Fahrenheit degrees-\n",
        "    [ 0. 12. 45.21 34. 99.91]\n",
        "    Values in Centigrade degrees-\n",
        "    [-17.77777778 -11.11111111 7.33888889 1.11111111 37.72777778]"
      ]
    },
    {
      "cell_type": "code",
      "metadata": {
        "id": "ORxrxf7TMUi_",
        "colab_type": "code",
        "colab": {}
      },
      "source": [
        "import numpy as np\n",
        "\n",
        "def to_fahrenheit(arr):\n",
        "  arr = np.array(arr)\n",
        "  print(\"Values in Fahrenheit:\")\n",
        "  print(arr)\n",
        "  print('\\n')\n",
        "  print(\"Values in  Centigrade degrees:\")\n",
        "  print((5*(arr-32))/9)"
      ],
      "execution_count": 69,
      "outputs": []
    },
    {
      "cell_type": "code",
      "metadata": {
        "id": "50lYaGrTN2Gg",
        "colab_type": "code",
        "colab": {
          "base_uri": "https://localhost:8080/",
          "height": 118
        },
        "outputId": "02b0b583-750c-40e8-97d1-ef4eac0f4b28"
      },
      "source": [
        "to_fahrenheit([0, 12, 45.21 ,34, 99.91])"
      ],
      "execution_count": 70,
      "outputs": [
        {
          "output_type": "stream",
          "text": [
            "Values in Fahrenheit:\n",
            "[ 0.   12.   45.21 34.   99.91]\n",
            "\n",
            "\n",
            "Values in  Centigrade degrees:\n",
            "[-17.77777778 -11.11111111   7.33888889   1.11111111  37.72777778]\n"
          ],
          "name": "stdout"
        }
      ]
    },
    {
      "cell_type": "code",
      "metadata": {
        "id": "NR8yG2_oN18D",
        "colab_type": "code",
        "colab": {}
      },
      "source": [
        ""
      ],
      "execution_count": 70,
      "outputs": []
    },
    {
      "cell_type": "markdown",
      "metadata": {
        "id": "DMC72YkaMUjB",
        "colab_type": "text"
      },
      "source": [
        "Q5. Write the NumPy program to find the real and imaginary parts of an\n",
        "array of complex numbers?\n",
        "\n",
        "    Expected OutputOriginal array [ 1.00000000+0.j 0.70710678+0.70710678j]\n",
        "    Real part of the array-\n",
        "    [ 1. 0.70710678]\n",
        "    Imaginary part of the array-\n",
        "    [ 0. 0.70710678]"
      ]
    },
    {
      "cell_type": "code",
      "metadata": {
        "id": "MM0-YSOYMUjB",
        "colab_type": "code",
        "colab": {}
      },
      "source": [
        "import numpy as np\n",
        "\n",
        "def complex_nums(arr):\n",
        "  arr = np.array(arr)\n",
        "  print('Real part of the array-')\n",
        "  print(arr.real)\n",
        "  print('\\n')\n",
        "  print('Imaginary part of the array-')\n",
        "  print(arr.imag)"
      ],
      "execution_count": 71,
      "outputs": []
    },
    {
      "cell_type": "code",
      "metadata": {
        "id": "iuDVCfB6QozC",
        "colab_type": "code",
        "colab": {
          "base_uri": "https://localhost:8080/",
          "height": 118
        },
        "outputId": "29a3d89e-5411-49a9-d686-d416496c2b5a"
      },
      "source": [
        "complex_nums([ 1.00000000+0.j, 0.70710678+0.70710678j])"
      ],
      "execution_count": 72,
      "outputs": [
        {
          "output_type": "stream",
          "text": [
            "Real part of the array-\n",
            "[1.         0.70710678]\n",
            "\n",
            "\n",
            "Imaginary part of the array-\n",
            "[0.         0.70710678]\n"
          ],
          "name": "stdout"
        }
      ]
    },
    {
      "cell_type": "code",
      "metadata": {
        "id": "ZhzTo72BQKJC",
        "colab_type": "code",
        "colab": {}
      },
      "source": [
        ""
      ],
      "execution_count": 72,
      "outputs": []
    },
    {
      "cell_type": "markdown",
      "metadata": {
        "id": "R3-Lr1IpMUjD",
        "colab_type": "text"
      },
      "source": [
        "Q6. Write the NumPy program to test whether each element of a 1-D\n",
        "array is also present in the second array?\n",
        "\n",
        "    Expected OutputArray1: [ 0 10 20 40 60]\n",
        "    Array2: [0, 40]\n",
        "    Compare each element of array1 and array2\n",
        "    [ True False False True False]\n"
      ]
    },
    {
      "cell_type": "code",
      "metadata": {
        "id": "hnCN8KilS3En",
        "colab_type": "code",
        "colab": {}
      },
      "source": [
        "import numpy as np\n",
        "\n",
        "def check_arrays(arr1, arr2):\n",
        "  print('Array1:')\n",
        "  arr1 = np.array(arr1)\n",
        "  print(arr1)\n",
        "  print('Array2:')\n",
        "  arr2 = np.array(arr2)\n",
        "  print(arr2)\n",
        "  print('Comparing each element of array1 and array2')\n",
        "  print(np.in1d(arr1, arr2))"
      ],
      "execution_count": 73,
      "outputs": []
    },
    {
      "cell_type": "code",
      "metadata": {
        "id": "c9X3-lVyMUjD",
        "colab_type": "code",
        "colab": {
          "base_uri": "https://localhost:8080/",
          "height": 118
        },
        "outputId": "f893a690-3943-42bc-be57-2a36ec304ff3"
      },
      "source": [
        "arr1 = [0,10,20,40,60]\n",
        "arr2 = [0,40]\n",
        "check_arrays(arr1, arr2)"
      ],
      "execution_count": 74,
      "outputs": [
        {
          "output_type": "stream",
          "text": [
            "Array1:\n",
            "[ 0 10 20 40 60]\n",
            "Array2:\n",
            "[ 0 40]\n",
            "Comparing each element of array1 and array2\n",
            "[ True False False  True False]\n"
          ],
          "name": "stdout"
        }
      ]
    },
    {
      "cell_type": "markdown",
      "metadata": {
        "id": "niktzIFYMUjG",
        "colab_type": "text"
      },
      "source": [
        "Q7. Write the NumPy program to find common values between two\n",
        "arrays?\n",
        "    \n",
        "    Expected OutputArray1: [ 0 10 20 40 60]\n",
        "    Array2: [10, 30, 40]\n",
        "    Common values between two arrays-\n",
        "    [10 40]"
      ]
    },
    {
      "cell_type": "code",
      "metadata": {
        "id": "tv_aLsegT12d",
        "colab_type": "code",
        "colab": {}
      },
      "source": [
        "import numpy as np\n",
        "\n",
        "def common_values(arr1, arr2):\n",
        "  print('Array1:')\n",
        "  arr1 = np.array(arr1)\n",
        "  print(arr1)\n",
        "  print('Array2:')\n",
        "  arr2 = np.array(arr2)\n",
        "  print(arr2)\n",
        "  print('Common values between two arrays-') \n",
        "  print(np.intersect1d(arr1, arr2)) "
      ],
      "execution_count": 75,
      "outputs": []
    },
    {
      "cell_type": "code",
      "metadata": {
        "id": "a-s7roblT10I",
        "colab_type": "code",
        "colab": {
          "base_uri": "https://localhost:8080/",
          "height": 118
        },
        "outputId": "a3ca299d-d1ad-49be-d572-e60941ab48a3"
      },
      "source": [
        "common_values([0, 10, 20, 40, 60], [10, 30, 40])"
      ],
      "execution_count": 76,
      "outputs": [
        {
          "output_type": "stream",
          "text": [
            "Array1:\n",
            "[ 0 10 20 40 60]\n",
            "Array2:\n",
            "[10 30 40]\n",
            "Common values between two arrays-\n",
            "[10 40]\n"
          ],
          "name": "stdout"
        }
      ]
    },
    {
      "cell_type": "code",
      "metadata": {
        "id": "5pu-NohXT1xF",
        "colab_type": "code",
        "colab": {}
      },
      "source": [
        ""
      ],
      "execution_count": 76,
      "outputs": []
    },
    {
      "cell_type": "markdown",
      "metadata": {
        "id": "ST-RsQolMUjK",
        "colab_type": "text"
      },
      "source": [
        "Q8. Write the NumPy program to get the unique elements of an array?\n",
        "\n",
        "    Expected OutputOriginal array-\n",
        "    [10 10 20 20 30 30]\n",
        "    Unique elements of the above array-\n",
        "    [10 20 30]\n",
        "    P a g e 14 | 44\n",
        "    Original array-\n",
        "    [[1 1]\n",
        "    [2 3]]\n",
        "    Unique elements of the above array-\n",
        "    [1 2 3]"
      ]
    },
    {
      "cell_type": "code",
      "metadata": {
        "id": "G5ckPExqMUjK",
        "colab_type": "code",
        "colab": {}
      },
      "source": [
        "import numpy as np\n",
        "\n",
        "def unique(arr):\n",
        "  arr = np.array(arr)\n",
        "  print('Original Array-')\n",
        "  print(arr)\n",
        "  print('Unique elements of the above array-')\n",
        "  print(np.unique(arr))"
      ],
      "execution_count": 77,
      "outputs": []
    },
    {
      "cell_type": "code",
      "metadata": {
        "id": "OhUjwfYgUui8",
        "colab_type": "code",
        "colab": {
          "base_uri": "https://localhost:8080/",
          "height": 84
        },
        "outputId": "7d5ed929-20cf-4e25-cf7d-6d34ccee96b7"
      },
      "source": [
        "unique([10, 10, 20, 20, 30, 30])"
      ],
      "execution_count": 78,
      "outputs": [
        {
          "output_type": "stream",
          "text": [
            "Original Array-\n",
            "[10 10 20 20 30 30]\n",
            "Unique elements of the above array-\n",
            "[10 20 30]\n"
          ],
          "name": "stdout"
        }
      ]
    },
    {
      "cell_type": "code",
      "metadata": {
        "id": "Fpzq9YLQVL_G",
        "colab_type": "code",
        "colab": {
          "base_uri": "https://localhost:8080/",
          "height": 101
        },
        "outputId": "b544b360-70ab-4660-e186-049bdd3d6362"
      },
      "source": [
        "unique([[1, 1],[2, 3]])"
      ],
      "execution_count": 79,
      "outputs": [
        {
          "output_type": "stream",
          "text": [
            "Original Array-\n",
            "[[1 1]\n",
            " [2 3]]\n",
            "Unique elements of the above array-\n",
            "[1 2 3]\n"
          ],
          "name": "stdout"
        }
      ]
    },
    {
      "cell_type": "code",
      "metadata": {
        "id": "vPWrRmO0VjF5",
        "colab_type": "code",
        "colab": {}
      },
      "source": [
        ""
      ],
      "execution_count": 79,
      "outputs": []
    },
    {
      "cell_type": "markdown",
      "metadata": {
        "id": "_XDO9FQ4MUjM",
        "colab_type": "text"
      },
      "source": [
        "Q9. Write the NumPy program to find the set exclusive-or of two arrays.\n",
        "Set exclusive-or will return the sorted, unique values that are in\n",
        "only one (not both) of the input arrays?\n",
        "\n",
        "    Array1- [ 0 10 20 40 60 80]\n",
        "    Array2- [10, 30, 40, 50, 70]\n",
        "    Unique values that are in only one (not both) of the input arrays-\n",
        "    [ 0 20 30 50 60 70 80]"
      ]
    },
    {
      "cell_type": "code",
      "metadata": {
        "id": "BsIwd7W0MUjM",
        "colab_type": "code",
        "colab": {}
      },
      "source": [
        "import numpy as np\n",
        "\n",
        "def exc_or(arr1, arr2):\n",
        "  print('Array1:')\n",
        "  arr1 = np.array(arr1)\n",
        "  print(arr1)\n",
        "  print('Array2:')\n",
        "  arr2 = np.array(arr2)\n",
        "  print(arr2)  \n",
        "  print('Unique values that are in only one (not both) of the input arrays-')\n",
        "  print(np.setxor1d(arr1, arr2))"
      ],
      "execution_count": 80,
      "outputs": []
    },
    {
      "cell_type": "code",
      "metadata": {
        "id": "-XBvDjMMboDI",
        "colab_type": "code",
        "colab": {
          "base_uri": "https://localhost:8080/",
          "height": 118
        },
        "outputId": "7279446e-3e34-4761-8b9b-5f05cfe0d8c8"
      },
      "source": [
        "exc_or([0, 10, 20, 40, 60, 80],[10, 30, 40, 50, 70])"
      ],
      "execution_count": 81,
      "outputs": [
        {
          "output_type": "stream",
          "text": [
            "Array1:\n",
            "[ 0 10 20 40 60 80]\n",
            "Array2:\n",
            "[10 30 40 50 70]\n",
            "Unique values that are in only one (not both) of the input arrays-\n",
            "[ 0 20 30 50 60 70 80]\n"
          ],
          "name": "stdout"
        }
      ]
    },
    {
      "cell_type": "code",
      "metadata": {
        "id": "y0qTECa0bIMz",
        "colab_type": "code",
        "colab": {}
      },
      "source": [
        ""
      ],
      "execution_count": 81,
      "outputs": []
    },
    {
      "cell_type": "markdown",
      "metadata": {
        "id": "F5SLUNSJMUjO",
        "colab_type": "text"
      },
      "source": [
        "Q10. Write the NumPy program to test if all elements in an array\n",
        "evaluate to True ?\n",
        " \n",
        "Note: 0 evaluates to False in NumPy"
      ]
    },
    {
      "cell_type": "code",
      "metadata": {
        "id": "wBbmbAihMUjP",
        "colab_type": "code",
        "colab": {}
      },
      "source": [
        "import numpy as np\n",
        "\n",
        "def eval_true(arr):\n",
        "  print(np.all(arr))"
      ],
      "execution_count": 82,
      "outputs": []
    },
    {
      "cell_type": "code",
      "metadata": {
        "id": "Ba--wMBPc5QK",
        "colab_type": "code",
        "colab": {
          "base_uri": "https://localhost:8080/",
          "height": 50
        },
        "outputId": "155d3ffc-5fd7-4bf3-e949-081a1fddaeb0"
      },
      "source": [
        "eval_true([10, 50, 0, 20, 0])\n",
        "eval_true([10,52,41])"
      ],
      "execution_count": 83,
      "outputs": [
        {
          "output_type": "stream",
          "text": [
            "False\n",
            "True\n"
          ],
          "name": "stdout"
        }
      ]
    },
    {
      "cell_type": "markdown",
      "metadata": {
        "id": "f9xKs_xRMUjR",
        "colab_type": "text"
      },
      "source": [
        "Q11. Write the NumPy program to test whether any array element along\n",
        "the given axis evaluates to True?\n",
        " \n",
        "Note: 0 evaluates to False in NumPy"
      ]
    },
    {
      "cell_type": "code",
      "metadata": {
        "id": "p0gsrfjpMUjR",
        "colab_type": "code",
        "colab": {}
      },
      "source": [
        "import numpy as np\n",
        "\n",
        "def any_true(arr):\n",
        "  return np.any(arr)"
      ],
      "execution_count": 84,
      "outputs": []
    },
    {
      "cell_type": "code",
      "metadata": {
        "id": "5y1TwFuEd-55",
        "colab_type": "code",
        "colab": {
          "base_uri": "https://localhost:8080/",
          "height": 50
        },
        "outputId": "83cd2d2e-25d2-4b48-e7a1-399588818329"
      },
      "source": [
        "print(any_true([10,20,0,22]))\n",
        "print(any_true([0,0]))"
      ],
      "execution_count": 85,
      "outputs": [
        {
          "output_type": "stream",
          "text": [
            "True\n",
            "False\n"
          ],
          "name": "stdout"
        }
      ]
    },
    {
      "cell_type": "code",
      "metadata": {
        "id": "USxBX0-id-ma",
        "colab_type": "code",
        "colab": {}
      },
      "source": [
        ""
      ],
      "execution_count": 85,
      "outputs": []
    },
    {
      "cell_type": "markdown",
      "metadata": {
        "id": "i1yrrTCxMUjT",
        "colab_type": "text"
      },
      "source": [
        "Q12. Write the NumPy program to construct an array by repeating?\n",
        "\n",
        "    Sample array- [1, 2, 3, 4]\n",
        "    Expected OutputOriginal array\n",
        "    [1, 2, 3, 4]\n",
        "    Repeating 2 times\n",
        "    [1 2 3 4 1 2 3 4]\n",
        "    Repeating 3 times\n",
        "    [1 2 3 4 1 2 3 4 1 2 3 4]"
      ]
    },
    {
      "cell_type": "code",
      "metadata": {
        "id": "3midwkTeMUjT",
        "colab_type": "code",
        "colab": {}
      },
      "source": [
        "import numpy as np\n",
        "\n",
        "def repeat_array(arr, multiplier):\n",
        "  arr = np.array(arr)\n",
        "  print('Original array')\n",
        "  print(arr)\n",
        "  print('\\n')\n",
        "  print(f'Repeating {multiplier} times:')\n",
        "  print(np.repeat(arr, multiplier))"
      ],
      "execution_count": 86,
      "outputs": []
    },
    {
      "cell_type": "code",
      "metadata": {
        "id": "xJ1U-ON2efJJ",
        "colab_type": "code",
        "colab": {
          "base_uri": "https://localhost:8080/",
          "height": 118
        },
        "outputId": "92b7df96-9404-48ca-a42b-8cb182280471"
      },
      "source": [
        "repeat_array([1, 2, 3, 4], 2)"
      ],
      "execution_count": 87,
      "outputs": [
        {
          "output_type": "stream",
          "text": [
            "Original array\n",
            "[1 2 3 4]\n",
            "\n",
            "\n",
            "Repeating 2 times:\n",
            "[1 1 2 2 3 3 4 4]\n"
          ],
          "name": "stdout"
        }
      ]
    },
    {
      "cell_type": "code",
      "metadata": {
        "id": "v2SLmhV51aWq",
        "colab_type": "code",
        "colab": {
          "base_uri": "https://localhost:8080/",
          "height": 118
        },
        "outputId": "2afbec2e-b49d-46b6-893f-c6deba52945b"
      },
      "source": [
        "repeat_array(3, 5)"
      ],
      "execution_count": 89,
      "outputs": [
        {
          "output_type": "stream",
          "text": [
            "Original array\n",
            "3\n",
            "\n",
            "\n",
            "Repeating 5 times:\n",
            "[3 3 3 3 3]\n"
          ],
          "name": "stdout"
        }
      ]
    },
    {
      "cell_type": "code",
      "metadata": {
        "id": "2RAEiy3WOSrW",
        "colab_type": "code",
        "colab": {}
      },
      "source": [
        ""
      ],
      "execution_count": 89,
      "outputs": []
    },
    {
      "cell_type": "markdown",
      "metadata": {
        "id": "9TaJthk7MUjV",
        "colab_type": "text"
      },
      "source": [
        "Q13. Write the NumPy program to find the indices of the maximum and\n",
        "minimum values with the given axis of an array?\n",
        "\n",
        "    Original array- [1 2 3 4 5 6]\n",
        "    Maximum Values- 5\n",
        "    Minimum Values- 0"
      ]
    },
    {
      "cell_type": "code",
      "metadata": {
        "id": "a8S-ZCcYMUjV",
        "colab_type": "code",
        "colab": {}
      },
      "source": [
        "def min_max(arr):\n",
        "  arr = np.array(arr)\n",
        "  print(f'Original array- {arr}')\n",
        "  print(f'Maximum Value- {np.argmax(arr)}')\n",
        "  print(f'Minimum Value- {np.argmin(arr)}')"
      ],
      "execution_count": 90,
      "outputs": []
    },
    {
      "cell_type": "code",
      "metadata": {
        "id": "QMginBonOyLC",
        "colab_type": "code",
        "colab": {
          "base_uri": "https://localhost:8080/",
          "height": 67
        },
        "outputId": "04639b74-5038-40a9-e28c-c1d35379edd3"
      },
      "source": [
        "min_max([1,2,3,4,5,6])"
      ],
      "execution_count": 91,
      "outputs": [
        {
          "output_type": "stream",
          "text": [
            "Original array- [1 2 3 4 5 6]\n",
            "Maximum Value- 5\n",
            "Minimum Value- 0\n"
          ],
          "name": "stdout"
        }
      ]
    },
    {
      "cell_type": "code",
      "metadata": {
        "id": "2sb954t7PrUc",
        "colab_type": "code",
        "colab": {}
      },
      "source": [
        ""
      ],
      "execution_count": 91,
      "outputs": []
    },
    {
      "cell_type": "markdown",
      "metadata": {
        "id": "N4etK_HeMUjX",
        "colab_type": "text"
      },
      "source": [
        "Q14. Write the NumPy program compare two arrays using numpy?\n",
        "\n",
        "    Array a- [1 2]\n",
        "    Array b- [4 5]\n",
        "    a > b\n",
        "    [False False]\n",
        "    a >= b\n",
        "    [False False]\n",
        "    a < b\n",
        "    [ True True]\n",
        "    a <= b\n",
        "    [ True True]\n"
      ]
    },
    {
      "cell_type": "code",
      "metadata": {
        "id": "YSv1H_JkMUjY",
        "colab_type": "code",
        "colab": {
          "base_uri": "https://localhost:8080/",
          "height": 185
        },
        "outputId": "7f4a1c54-f67a-444c-e1da-860fb1b60abe"
      },
      "source": [
        "a = np.array([1, 2])\n",
        "b = np.array([4, 5])\n",
        "print(\"Array a- \",a)\n",
        "print(\"Array b- \",b)\n",
        "print(\"a > b\")\n",
        "print(np.greater(a, b))\n",
        "print(\"a >= b\")\n",
        "print(np.greater_equal(a, b))\n",
        "print(\"a < b\")\n",
        "print(np.less(a, b))\n",
        "print(\"a <= b\")\n",
        "print(np.less_equal(a, b))"
      ],
      "execution_count": 92,
      "outputs": [
        {
          "output_type": "stream",
          "text": [
            "Array a-  [1 2]\n",
            "Array b-  [4 5]\n",
            "a > b\n",
            "[False False]\n",
            "a >= b\n",
            "[False False]\n",
            "a < b\n",
            "[ True  True]\n",
            "a <= b\n",
            "[ True  True]\n"
          ],
          "name": "stdout"
        }
      ]
    },
    {
      "cell_type": "code",
      "metadata": {
        "id": "dSzXDEvQUnBN",
        "colab_type": "code",
        "colab": {}
      },
      "source": [
        ""
      ],
      "execution_count": 92,
      "outputs": []
    },
    {
      "cell_type": "markdown",
      "metadata": {
        "id": "5037MhCOMUjZ",
        "colab_type": "text"
      },
      "source": [
        "Q15. Write the NumPy program to sort an along the first, last axis of an\n",
        "array?\n",
        "\n",
        "    Sample array- [[2,5],[4,4]]\n",
        "    Expected OutputOriginal array:\n",
        "    [[4 6]\n",
        "    [2 1]]\n",
        "    Sort along the first axis:\n",
        "    [[2 1]\n",
        "    [4 6]]\n",
        "    Sort along the last axis-\n",
        "    [[1 2]\n",
        "    [4 6]]"
      ]
    },
    {
      "cell_type": "code",
      "metadata": {
        "id": "bNTQiDXQMUja",
        "colab_type": "code",
        "colab": {
          "base_uri": "https://localhost:8080/",
          "height": 168
        },
        "outputId": "fab0b401-1ecd-460b-a9db-cbfebe4830b0"
      },
      "source": [
        "import numpy as np\n",
        "\n",
        "a = np.array([[4, 6],[2, 1]])\n",
        "print(\"Original array: \")\n",
        "print(a)\n",
        "print(\"Sort along the first axis: \")\n",
        "x = np.sort(a, axis=0)\n",
        "print(x)\n",
        "print(\"Sort along the last axis: \")\n",
        "y = np.sort(x, axis=1)\n",
        "print(y)"
      ],
      "execution_count": 93,
      "outputs": [
        {
          "output_type": "stream",
          "text": [
            "Original array: \n",
            "[[4 6]\n",
            " [2 1]]\n",
            "Sort along the first axis: \n",
            "[[2 1]\n",
            " [4 6]]\n",
            "Sort along the last axis: \n",
            "[[1 2]\n",
            " [4 6]]\n"
          ],
          "name": "stdout"
        }
      ]
    },
    {
      "cell_type": "code",
      "metadata": {
        "id": "rSoxhyLaVDK-",
        "colab_type": "code",
        "colab": {}
      },
      "source": [
        ""
      ],
      "execution_count": 93,
      "outputs": []
    },
    {
      "cell_type": "markdown",
      "metadata": {
        "id": "mU_c-e_fMUjc",
        "colab_type": "text"
      },
      "source": [
        "Q16. Write the NumPy program to sort pairs of first name and last name\n",
        "return their indices (first by last name, then by first name).\n",
        "\n",
        "    first_names - ( Betsey, Shelley, Lanell, Genesis, Margery )\n",
        "    last_names - ( Battle, Brien, Plotner, Stahl, Woolum )\n",
        "    Expected Output-\n",
        "    [1 3 2 4 0]"
      ]
    },
    {
      "cell_type": "code",
      "metadata": {
        "id": "1hU7P9HpMUjc",
        "colab_type": "code",
        "colab": {
          "base_uri": "https://localhost:8080/",
          "height": 34
        },
        "outputId": "1784a4c8-94be-4409-cd49-92c359d9d73c"
      },
      "source": [
        "first_names =    ('Margery', 'Betsey', 'Shelley', 'Lanell', 'Genesis')\n",
        "last_names = ('Woolum', 'Battle', 'Plotner', 'Brien', 'Stahl')\n",
        "x = np.lexsort((first_names, last_names))\n",
        "print(x)"
      ],
      "execution_count": 94,
      "outputs": [
        {
          "output_type": "stream",
          "text": [
            "[1 3 2 4 0]\n"
          ],
          "name": "stdout"
        }
      ]
    },
    {
      "cell_type": "code",
      "metadata": {
        "id": "zgDoPSSNZY08",
        "colab_type": "code",
        "colab": {}
      },
      "source": [
        ""
      ],
      "execution_count": 94,
      "outputs": []
    },
    {
      "cell_type": "markdown",
      "metadata": {
        "id": "J3M6pJgjMUje",
        "colab_type": "text"
      },
      "source": [
        "Q17. Write the NumPy program to get the values and indices of the\n",
        "elements that are bigger than 10 in the given array?\n",
        "\n",
        "    Original array-\n",
        "    [[ 0 10 20]\n",
        "    [20 30 40]]\n",
        "    Values bigger than 10 = [20 20 30 40]\n",
        "    Their indices are (array([0, 1, 1, 1]), array([2, 0, 1, 2]))"
      ]
    },
    {
      "cell_type": "code",
      "metadata": {
        "id": "zkb4sTgeMUje",
        "colab_type": "code",
        "colab": {
          "base_uri": "https://localhost:8080/",
          "height": 101
        },
        "outputId": "674ba8ac-600a-4fc7-e29c-e0f84fffad12"
      },
      "source": [
        "import numpy as np\n",
        "x = np.array([[0, 10, 20], [20, 30, 40]])\n",
        "print(\"Original array: \")\n",
        "print(x)\n",
        "print(\"Values bigger than 10 =\", x[x>10])\n",
        "print(\"Their indices are \", np.nonzero(x > 10))"
      ],
      "execution_count": 95,
      "outputs": [
        {
          "output_type": "stream",
          "text": [
            "Original array: \n",
            "[[ 0 10 20]\n",
            " [20 30 40]]\n",
            "Values bigger than 10 = [20 20 30 40]\n",
            "Their indices are  (array([0, 1, 1, 1]), array([2, 0, 1, 2]))\n"
          ],
          "name": "stdout"
        }
      ]
    },
    {
      "cell_type": "code",
      "metadata": {
        "id": "lxL7K8BTZ7sp",
        "colab_type": "code",
        "colab": {}
      },
      "source": [
        ""
      ],
      "execution_count": 95,
      "outputs": []
    },
    {
      "cell_type": "code",
      "metadata": {
        "id": "ITelrwd8Z7h0",
        "colab_type": "code",
        "colab": {}
      },
      "source": [
        ""
      ],
      "execution_count": 95,
      "outputs": []
    },
    {
      "cell_type": "markdown",
      "metadata": {
        "id": "ybnJj_O4MUjg",
        "colab_type": "text"
      },
      "source": [
        "Q18. Write the NumPy program to find the memory size of a NumPy\n",
        "array?\n",
        "\n",
        "    Expected Output128 bytes\n"
      ]
    },
    {
      "cell_type": "code",
      "metadata": {
        "id": "MHNvp0wHMUjg",
        "colab_type": "code",
        "colab": {
          "base_uri": "https://localhost:8080/",
          "height": 34
        },
        "outputId": "6da78111-09ad-4e56-bd5a-3c7117efadaa"
      },
      "source": [
        "n = np.zeros((4,4))\n",
        "print(f'{n.size * n.itemsize} bytes')"
      ],
      "execution_count": 96,
      "outputs": [
        {
          "output_type": "stream",
          "text": [
            "128 bytes\n"
          ],
          "name": "stdout"
        }
      ]
    },
    {
      "cell_type": "markdown",
      "metadata": {
        "id": "G9pCt6_3MUji",
        "colab_type": "text"
      },
      "source": [
        "## Great Job!"
      ]
    }
  ]
}